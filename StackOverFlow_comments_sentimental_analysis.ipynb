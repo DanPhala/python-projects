{
  "nbformat": 4,
  "nbformat_minor": 0,
  "metadata": {
    "colab": {
      "provenance": [],
      "authorship_tag": "ABX9TyN3Se6g/hF7Y1OIYfKZgbvQ",
      "include_colab_link": true
    },
    "kernelspec": {
      "name": "python3",
      "display_name": "Python 3"
    },
    "language_info": {
      "name": "python"
    }
  },
  "cells": [
    {
      "cell_type": "markdown",
      "metadata": {
        "id": "view-in-github",
        "colab_type": "text"
      },
      "source": [
        "<a href=\"https://colab.research.google.com/github/DanPhala/python-projects/blob/main/StackOverFlow_comments_sentimental_analysis.ipynb\" target=\"_parent\"><img src=\"https://colab.research.google.com/assets/colab-badge.svg\" alt=\"Open In Colab\"/></a>"
      ]
    },
    {
      "cell_type": "markdown",
      "source": [
        "#Basic movie review classification ( negative or positive)"
      ],
      "metadata": {
        "id": "BXa3XN8nT_no"
      }
    },
    {
      "cell_type": "code",
      "execution_count": 127,
      "metadata": {
        "id": "ZrRj60UzSba4"
      },
      "outputs": [],
      "source": [
        "import tensorflow as tf\n",
        "import string\n",
        "import matplotlib.pyplot as plt\n",
        "import os\n",
        "import re\n",
        "import shutil\n",
        "\n",
        "from tensorflow.keras import layers\n",
        "from tensorflow.keras import losses"
      ]
    },
    {
      "cell_type": "code",
      "source": [
        "print(f\"tensorflow version -> : {tf.__version__}\")"
      ],
      "metadata": {
        "colab": {
          "base_uri": "https://localhost:8080/"
        },
        "id": "xEhZ4ASaUuFm",
        "outputId": "abaf05f6-dcb3-47a0-8998-2f621a04b62b"
      },
      "execution_count": 128,
      "outputs": [
        {
          "output_type": "stream",
          "name": "stdout",
          "text": [
            "tensorflow version -> : 2.13.0\n"
          ]
        }
      ]
    },
    {
      "cell_type": "markdown",
      "source": [
        "## Dataset used is called [Large Movie Review Dataset](https://ai.stanford.edu/~amaas/data/sentiment/) that contains text of 50 000 movie reviews from the [Internet Movies Database](https://www.imdb.com/). These are split into 25 000 reviews for training and 25 000 for testing."
      ],
      "metadata": {
        "id": "8NjsUwhPVCAg"
      }
    },
    {
      "cell_type": "code",
      "source": [
        "#downloading the dataset\n",
        "url = \"https://storage.googleapis.com/download.tensorflow.org/data/stack_overflow_16k.tar.gz\"\n",
        "\n",
        "dataset = tf.keras.utils.get_file(\"aclImdb_v1\", url , untar = True, cache_dir='.', cache_subdir='.')\n",
        "\n",
        "dataset_dir = os.path.join(os.path.dirname(dataset),  'aclImdb')"
      ],
      "metadata": {
        "id": "K1ZZ9wGpVlHw"
      },
      "execution_count": 129,
      "outputs": []
    },
    {
      "cell_type": "code",
      "source": [
        "os.listdir(dataset_dir)"
      ],
      "metadata": {
        "colab": {
          "base_uri": "https://localhost:8080/"
        },
        "id": "XN1LScjNWkDl",
        "outputId": "580a08aa-582a-4a4b-c6d1-004572598828"
      },
      "execution_count": 130,
      "outputs": [
        {
          "output_type": "execute_result",
          "data": {
            "text/plain": [
              "['test', 'README', 'imdbEr.txt', 'train', 'imdb.vocab']"
            ]
          },
          "metadata": {},
          "execution_count": 130
        }
      ]
    },
    {
      "cell_type": "markdown",
      "source": [
        "###Getting training dataset path"
      ],
      "metadata": {
        "id": "IHSaJbf-WxMu"
      }
    },
    {
      "cell_type": "code",
      "source": [
        "train_dir = os.path.join(dataset_dir,  'train')\n",
        "os.listdir(train_dir)\n"
      ],
      "metadata": {
        "colab": {
          "base_uri": "https://localhost:8080/"
        },
        "id": "lQ12BIEnW1Wh",
        "outputId": "e8c71089-1845-4818-9400-5e68ca2e8b68"
      },
      "execution_count": 131,
      "outputs": [
        {
          "output_type": "execute_result",
          "data": {
            "text/plain": [
              "['urls_neg.txt',\n",
              " 'unsupBow.feat',\n",
              " 'urls_unsup.txt',\n",
              " 'labeledBow.feat',\n",
              " 'unsup',\n",
              " 'urls_pos.txt',\n",
              " 'neg',\n",
              " 'pos']"
            ]
          },
          "metadata": {},
          "execution_count": 131
        }
      ]
    },
    {
      "cell_type": "code",
      "source": [
        "sample_file = os.path.join(train_dir, 'pos/1181_9.txt')\n",
        "with open(sample_file) as f:\n",
        "  print(f.read())"
      ],
      "metadata": {
        "colab": {
          "base_uri": "https://localhost:8080/"
        },
        "id": "8WbTH20qXOcY",
        "outputId": "448630aa-3e06-42cf-b28f-11c93ed99734"
      },
      "execution_count": 132,
      "outputs": [
        {
          "output_type": "stream",
          "name": "stdout",
          "text": [
            "Rachel Griffiths writes and directs this award winning short film. A heartwarming story about coping with grief and cherishing the memory of those we've loved and lost. Although, only 15 minutes long, Griffiths manages to capture so much emotion and truth onto film in the short space of time. Bud Tingwell gives a touching performance as Will, a widower struggling to cope with his wife's death. Will is confronted by the harsh reality of loneliness and helplessness as he proceeds to take care of Ruth's pet cow, Tulip. The film displays the grief and responsibility one feels for those they have loved and lost. Good cinematography, great direction, and superbly acted. It will bring tears to all those who have lost a loved one, and survived.\n"
          ]
        }
      ]
    },
    {
      "cell_type": "code",
      "source": [
        "remove_dir = os.path.join(train_dir, 'unsup')\n",
        "shutil.rmtree(remove_dir)"
      ],
      "metadata": {
        "id": "wEXoi6r8lGt8"
      },
      "execution_count": 133,
      "outputs": []
    },
    {
      "cell_type": "markdown",
      "source": [
        "### To prepare datase for binary classification we will have to split it into two folders for negative and positive dataset\n"
      ],
      "metadata": {
        "id": "GijNyaOOXrpQ"
      }
    },
    {
      "cell_type": "markdown",
      "source": [
        "#### I will further split the datasets into 3 (training, validation and testing) , validation will be 20 % data from training"
      ],
      "metadata": {
        "id": "EOhMN4OdX9rZ"
      }
    },
    {
      "cell_type": "markdown",
      "source": [
        "#Training dataset"
      ],
      "metadata": {
        "id": "9NSzL1s8Z9Fu"
      }
    },
    {
      "cell_type": "code",
      "source": [
        "batch_size = 32\n",
        "seed = 42\n",
        "\n",
        "raw_train_ds = tf.keras.utils.text_dataset_from_directory(\n",
        "                                                          'aclImdb/train' ,\n",
        "                                                          batch_size=batch_size,\n",
        "                                                          validation_split=0.2,\n",
        "                                                          subset='training',\n",
        "                                                          seed=seed)"
      ],
      "metadata": {
        "colab": {
          "base_uri": "https://localhost:8080/"
        },
        "id": "4sAkazZNYJml",
        "outputId": "cbca9ee2-87f2-44ea-b6a0-60bc488b3f9c"
      },
      "execution_count": 134,
      "outputs": [
        {
          "output_type": "stream",
          "name": "stdout",
          "text": [
            "Found 25000 files belonging to 2 classes.\n",
            "Using 20000 files for training.\n"
          ]
        }
      ]
    },
    {
      "cell_type": "markdown",
      "source": [
        "###Validation dataset"
      ],
      "metadata": {
        "id": "I01_avOTZ51J"
      }
    },
    {
      "cell_type": "code",
      "source": [
        "raw_val_ds = tf.keras.utils.text_dataset_from_directory(\n",
        "                                                        'aclImdb/train',\n",
        "                                                        batch_size=batch_size,\n",
        "                                                        validation_split=0.2,\n",
        "                                                        subset='validation',\n",
        "                                                        seed=seed)"
      ],
      "metadata": {
        "colab": {
          "base_uri": "https://localhost:8080/"
        },
        "id": "rvBg7GJxZS7M",
        "outputId": "d9ced584-677c-448b-870f-1d7925bb4c99"
      },
      "execution_count": 135,
      "outputs": [
        {
          "output_type": "stream",
          "name": "stdout",
          "text": [
            "Found 25000 files belonging to 2 classes.\n",
            "Using 5000 files for validation.\n"
          ]
        }
      ]
    },
    {
      "cell_type": "markdown",
      "source": [
        "##Testing dataset"
      ],
      "metadata": {
        "id": "pomh4PN8Z20X"
      }
    },
    {
      "cell_type": "code",
      "source": [
        "raw_test_ds = tf.keras.utils.text_dataset_from_directory( 'aclImdb/train',\n",
        "                                                          batch_size=batch_size)"
      ],
      "metadata": {
        "colab": {
          "base_uri": "https://localhost:8080/"
        },
        "id": "JxX7uX4cZ42W",
        "outputId": "98094049-14d5-41eb-ff6d-32508eca035d"
      },
      "execution_count": 136,
      "outputs": [
        {
          "output_type": "stream",
          "name": "stdout",
          "text": [
            "Found 25000 files belonging to 2 classes.\n"
          ]
        }
      ]
    },
    {
      "cell_type": "markdown",
      "source": [
        "#Preparing dataset for training"
      ],
      "metadata": {
        "id": "W0EMSvR4b9CV"
      }
    },
    {
      "cell_type": "code",
      "source": [
        "#customer function to remove html tags\n",
        "\n",
        "def custom_standardization(input_data):\n",
        "  lowercase = tf.strings.lower(input_data)\n",
        "  stripped_html = tf.strings.regex_replace(lowercase, '<br  />', ' ')\n",
        "  return  tf.strings.regex_replace(stripped_html,'[%s]' % re.escape(string.punctuation),'')"
      ],
      "metadata": {
        "id": "qhKmpuqjcDNn"
      },
      "execution_count": 137,
      "outputs": []
    },
    {
      "cell_type": "markdown",
      "source": [
        "###TextVectorization"
      ],
      "metadata": {
        "id": "rPoc8Q3XcyBU"
      }
    },
    {
      "cell_type": "code",
      "source": [
        "max_features = 10000\n",
        "sequence_length = 250\n",
        "\n",
        "vectorize_layer = layers.TextVectorization(standardize=custom_standardization , max_tokens=max_features, output_mode='int' , output_sequence_length=sequence_length)"
      ],
      "metadata": {
        "id": "rVgXoEZPc07q"
      },
      "execution_count": 138,
      "outputs": []
    },
    {
      "cell_type": "code",
      "source": [
        "#Make a text-only dataset (without labels), then call adapt\n",
        "train_text = raw_train_ds.map(lambda x,y : x)\n",
        "vectorize_layer.adapt(train_text)"
      ],
      "metadata": {
        "id": "60cmkngBdaS5"
      },
      "execution_count": 139,
      "outputs": []
    },
    {
      "cell_type": "code",
      "source": [
        "#function that will hhelp us see the results from the vectorization layer\n",
        "def vectorize_text(text, label):\n",
        "  text = tf.expand_dims(text, -1)\n",
        "  return vectorize_layer(text), label"
      ],
      "metadata": {
        "id": "fk0DK3WJdiRK"
      },
      "execution_count": 140,
      "outputs": []
    },
    {
      "cell_type": "code",
      "source": [
        "# retrieve a batch (of 32 reviews and labels) from the dataset\n",
        "text_batch, label_batch = next(iter(raw_train_ds))\n",
        "first_review, first_label = text_batch[0] , label_batch[0]\n",
        "\n",
        "print(f\"Review: {first_review}\")\n",
        "print(f\"Label {raw_train_ds.class_names[first_label]}\")\n",
        "print(f\"Vectorized review {vectorize_text(first_review, first_label)}\")"
      ],
      "metadata": {
        "colab": {
          "base_uri": "https://localhost:8080/"
        },
        "id": "9FmW1vq7eMjk",
        "outputId": "85d7473b-ab0d-4807-b3b2-4a77597986ca"
      },
      "execution_count": 141,
      "outputs": [
        {
          "output_type": "stream",
          "name": "stdout",
          "text": [
            "Review: b'Silent Night, Deadly Night 5 is the very last of the series, and like part 4, it\\'s unrelated to the first three except by title and the fact that it\\'s a Christmas-themed horror flick.<br /><br />Except to the oblivious, there\\'s some obvious things going on here...Mickey Rooney plays a toymaker named Joe Petto and his creepy son\\'s name is Pino. Ring a bell, anyone? Now, a little boy named Derek heard a knock at the door one evening, and opened it to find a present on the doorstep for him. Even though it said \"don\\'t open till Christmas\", he begins to open it anyway but is stopped by his dad, who scolds him and sends him to bed, and opens the gift himself. Inside is a little red ball that sprouts Santa arms and a head, and proceeds to kill dad. Oops, maybe he should have left well-enough alone. Of course Derek is then traumatized by the incident since he watched it from the stairs, but he doesn\\'t grow up to be some killer Santa, he just stops talking.<br /><br />There\\'s a mysterious stranger lurking around, who seems very interested in the toys that Joe Petto makes. We even see him buying a bunch when Derek\\'s mom takes him to the store to find a gift for him to bring him out of his trauma. And what exactly is this guy doing? Well, we\\'re not sure but he does seem to be taking these toys apart to see what makes them tick. He does keep his landlord from evicting him by promising him to pay him in cash the next day and presents him with a \"Larry the Larvae\" toy for his kid, but of course \"Larry\" is not a good toy and gets out of the box in the car and of course, well, things aren\\'t pretty.<br /><br />Anyway, eventually what\\'s going on with Joe Petto and Pino is of course revealed, and as with the old story, Pino is not a \"real boy\". Pino is probably even more agitated and naughty because he suffers from \"Kenitalia\" (a smooth plastic crotch) so that could account for his evil ways. And the identity of the lurking stranger is revealed too, and there\\'s even kind of a happy ending of sorts. Whee.<br /><br />A step up from part 4, but not much of one. Again, Brian Yuzna is involved, and Screaming Mad George, so some decent special effects, but not enough to make this great. A few leftovers from part 4 are hanging around too, like Clint Howard and Neith Hunter, but that doesn\\'t really make any difference. Anyway, I now have seeing the whole series out of my system. Now if I could get some of it out of my brain. 4 out of 5.'\n",
            "Label neg\n",
            "Vectorized review (<tf.Tensor: shape=(1, 250), dtype=int64, numpy=\n",
            "array([[1280,  313, 2383,  313,  659,    7,    2,   53,  228,    5,    2,\n",
            "         204,    3,   39,  171,  667,   30, 5511,    6,    2,   85,  296,\n",
            "         541,   33,  412,    3,    2,  186,   12,   30,    4,    1,  194,\n",
            "        7159,   13,  541,    6,    2, 8502,  210,   47,  575,  177,  168,\n",
            "          21,    1, 5441,  287,    4,    1,  760,  962,    1,    3,   25,\n",
            "         942, 2297,  397,    7,    1, 1666,    4, 3735,  253,  149,    4,\n",
            "         111,  439,  760, 3547,  543,    4, 3623,   31,    2, 1357,   29,\n",
            "        2136,    3, 2903,    9,    6,  162,    4, 1006,   21,    2,    1,\n",
            "          16,   89,   54,  148,    9,  293,   90,  961, 2295,  990,   28,\n",
            "         777,    6,  961,    9,  587,   19,    7, 2162,   33,   25, 1270,\n",
            "          37,    1,   89,    3, 3295,   89,    6, 1421,    3, 1919,    2,\n",
            "        3403,  304,  971,    7,    4,  111,  738, 1980,   12,    1, 1999,\n",
            "        2850,    3,    4,  430,    3, 5180,    6,  505, 1270,    1,  273,\n",
            "          28,  139,   26,  306,    1,  596,    5,  260, 3547,    7,   91,\n",
            "        9072,   33,    2, 3877,  230,   28,  285,    9,   36,    2, 6002,\n",
            "          19,   28,  145, 2144,   58,    6,   27,   47,  468, 1999,   28,\n",
            "          41, 2754,    1,   13,  210,    4, 1363, 2996, 7128,  184,   37,\n",
            "         181,   53,  915,    8,    2, 4027,   12,  962,    1,  159,   72,\n",
            "          54,   69,   89, 2750,    4,  735,   52,    1, 1599,  292,   89,\n",
            "           6,    2, 1169,    6,  162,    4, 3403,   16,   89,    6,  712,\n",
            "          89,   46,    5,   25, 7354,    3,   49,  594,    7,   11,  226,\n",
            "         386,   74,   66,   22,  243,   19,   28,  120,  295,    6,   27,\n",
            "         662,  129, 4027,  956,    6,   69,   49,  159]])>, <tf.Tensor: shape=(), dtype=int32, numpy=0>)\n"
          ]
        }
      ]
    },
    {
      "cell_type": "markdown",
      "source": [
        "###Each token is replaced by the integer , i will call the .get_vocabulary() on this layer to show an example of which numbers corresponds to which token"
      ],
      "metadata": {
        "id": "2LjC-zLzfFP4"
      }
    },
    {
      "cell_type": "code",
      "source": [
        "print(f\"2 -> {vectorize_layer.get_vocabulary()[2]}\")\n",
        "print(f\"1422 -> {vectorize_layer.get_vocabulary()[1422]}\")\n",
        "print(f\"1318 -> {vectorize_layer.get_vocabulary()[1318]}\")"
      ],
      "metadata": {
        "colab": {
          "base_uri": "https://localhost:8080/"
        },
        "id": "bT0ybSwVfWrK",
        "outputId": "82942bd8-db6a-4cc9-f7ec-61597e6aa70c"
      },
      "execution_count": 142,
      "outputs": [
        {
          "output_type": "stream",
          "name": "stdout",
          "text": [
            "2 -> the\n",
            "1422 -> emotions\n",
            "1318 -> christopher\n"
          ]
        }
      ]
    },
    {
      "cell_type": "markdown",
      "source": [
        "### Aplying the vecotirization layer to the entire dataset"
      ],
      "metadata": {
        "id": "6rUxeCNGf0Zl"
      }
    },
    {
      "cell_type": "code",
      "source": [
        "train_ds = raw_train_ds.map(vectorize_text)\n",
        "val_ds = raw_val_ds.map(vectorize_text)\n",
        "test_ds = raw_test_ds.map(vectorize_text)"
      ],
      "metadata": {
        "id": "N6NxDFKCf6Ch"
      },
      "execution_count": 143,
      "outputs": []
    },
    {
      "cell_type": "markdown",
      "source": [
        "### Configuring the dataset for performance"
      ],
      "metadata": {
        "id": "QYN7kHyLgMJA"
      }
    },
    {
      "cell_type": "code",
      "source": [
        "AUTOTUNE = tf.data.AUTOTUNE\n",
        "train_ds = train_ds.cache().prefetch(buffer_size=AUTOTUNE)\n",
        "val_ds = val_ds.cache().prefetch(buffer_size=AUTOTUNE)\n",
        "test_ds = test_ds.cache().prefetch(buffer_size=AUTOTUNE)"
      ],
      "metadata": {
        "id": "wvtp3E_VgPif"
      },
      "execution_count": 144,
      "outputs": []
    },
    {
      "cell_type": "markdown",
      "source": [
        "### Creating the model"
      ],
      "metadata": {
        "id": "FysjKZP1g2Cy"
      }
    },
    {
      "cell_type": "code",
      "source": [
        "embedding_dim = 16"
      ],
      "metadata": {
        "id": "n7uw-Xncg34s"
      },
      "execution_count": 145,
      "outputs": []
    },
    {
      "cell_type": "code",
      "source": [
        "model = tf.keras.Sequential([\n",
        "                            layers.Embedding(max_features + 1, embedding_dim),\n",
        "                            layers.Dropout(0.2),\n",
        "                            layers.GlobalAveragePooling1D(),\n",
        "                            layers.Dropout(0.2),\n",
        "                            layers.Dense(4)\n",
        "                            ])\n",
        "model.summary()"
      ],
      "metadata": {
        "colab": {
          "base_uri": "https://localhost:8080/"
        },
        "id": "kZacrsv5hais",
        "outputId": "bdd8925b-327c-4ff8-f5af-76639480c1a0"
      },
      "execution_count": 162,
      "outputs": [
        {
          "output_type": "stream",
          "name": "stdout",
          "text": [
            "Model: \"sequential_22\"\n",
            "_________________________________________________________________\n",
            " Layer (type)                Output Shape              Param #   \n",
            "=================================================================\n",
            " embedding_11 (Embedding)    (None, None, 16)          160016    \n",
            "                                                                 \n",
            " dropout_22 (Dropout)        (None, None, 16)          0         \n",
            "                                                                 \n",
            " global_average_pooling1d_6  (None, 16)                0         \n",
            "  (GlobalAveragePooling1D)                                       \n",
            "                                                                 \n",
            " dropout_23 (Dropout)        (None, 16)                0         \n",
            "                                                                 \n",
            " dense_11 (Dense)            (None, 4)                 68        \n",
            "                                                                 \n",
            "=================================================================\n",
            "Total params: 160084 (625.33 KB)\n",
            "Trainable params: 160084 (625.33 KB)\n",
            "Non-trainable params: 0 (0.00 Byte)\n",
            "_________________________________________________________________\n"
          ]
        }
      ]
    },
    {
      "cell_type": "code",
      "source": [
        "model.compile(loss=tf.keras.losses.SparseCategoricalCrossentropy(from_logits=True),\n",
        "              optimizer='adam' ,\n",
        "              metrics=['accuracy'])"
      ],
      "metadata": {
        "id": "yDDfipC5iSF7"
      },
      "execution_count": 163,
      "outputs": []
    },
    {
      "cell_type": "markdown",
      "source": [
        "### Training the model"
      ],
      "metadata": {
        "id": "THBvWMvSiqLp"
      }
    },
    {
      "cell_type": "code",
      "source": [
        "epochs = 10\n",
        "history = model.fit(train_ds,\n",
        "                    validation_data=val_ds,\n",
        "                    epochs=epochs)"
      ],
      "metadata": {
        "colab": {
          "base_uri": "https://localhost:8080/"
        },
        "id": "CPBWW8MsisUw",
        "outputId": "4eb70b27-d943-4f81-be24-ae5cfc245360"
      },
      "execution_count": 164,
      "outputs": [
        {
          "output_type": "stream",
          "name": "stdout",
          "text": [
            "Epoch 1/10\n",
            "625/625 [==============================] - 6s 8ms/step - loss: 0.8448 - accuracy: 0.5501 - val_loss: 0.6838 - val_accuracy: 0.7758\n",
            "Epoch 2/10\n",
            "625/625 [==============================] - 5s 9ms/step - loss: 0.6623 - accuracy: 0.6400 - val_loss: 0.6274 - val_accuracy: 0.7846\n",
            "Epoch 3/10\n",
            "625/625 [==============================] - 4s 7ms/step - loss: 0.5999 - accuracy: 0.7145 - val_loss: 0.5582 - val_accuracy: 0.8046\n",
            "Epoch 4/10\n",
            "625/625 [==============================] - 6s 9ms/step - loss: 0.5301 - accuracy: 0.7701 - val_loss: 0.4895 - val_accuracy: 0.8290\n",
            "Epoch 5/10\n",
            "625/625 [==============================] - 5s 8ms/step - loss: 0.4625 - accuracy: 0.8160 - val_loss: 0.4328 - val_accuracy: 0.8458\n",
            "Epoch 6/10\n",
            "625/625 [==============================] - 6s 9ms/step - loss: 0.4104 - accuracy: 0.8386 - val_loss: 0.3913 - val_accuracy: 0.8554\n",
            "Epoch 7/10\n",
            "625/625 [==============================] - 5s 7ms/step - loss: 0.3666 - accuracy: 0.8626 - val_loss: 0.3619 - val_accuracy: 0.8626\n",
            "Epoch 8/10\n",
            "625/625 [==============================] - 5s 8ms/step - loss: 0.3375 - accuracy: 0.8723 - val_loss: 0.3411 - val_accuracy: 0.8664\n",
            "Epoch 9/10\n",
            "625/625 [==============================] - 6s 10ms/step - loss: 0.3142 - accuracy: 0.8795 - val_loss: 0.3264 - val_accuracy: 0.8692\n",
            "Epoch 10/10\n",
            "625/625 [==============================] - 5s 8ms/step - loss: 0.2903 - accuracy: 0.8892 - val_loss: 0.3148 - val_accuracy: 0.8712\n"
          ]
        }
      ]
    },
    {
      "cell_type": "code",
      "source": [
        "loss, accuracy = model.evaluate(test_ds)\n",
        "\n",
        "print(f\"Loss: {loss}\")\n",
        "print(f\"Accuracy: {accuracy}\")"
      ],
      "metadata": {
        "colab": {
          "base_uri": "https://localhost:8080/"
        },
        "id": "rZKAdF-Ykg48",
        "outputId": "6b64bbc8-3771-4583-8ac5-6b2bb68c965e"
      },
      "execution_count": 154,
      "outputs": [
        {
          "output_type": "stream",
          "name": "stdout",
          "text": [
            "782/782 [==============================] - 5s 7ms/step - loss: 0.2780 - accuracy: 0.8953\n",
            "Loss: 0.2779940962791443\n",
            "Accuracy: 0.8952800035476685\n"
          ]
        }
      ]
    },
    {
      "cell_type": "markdown",
      "source": [
        "### Plotting the accuracy and loss overtime"
      ],
      "metadata": {
        "id": "L0Hs0zN3m2Ke"
      }
    },
    {
      "cell_type": "code",
      "source": [
        "#return history of everything that happened during training\n",
        "history_dict = history.history\n",
        "history_dict.keys()"
      ],
      "metadata": {
        "colab": {
          "base_uri": "https://localhost:8080/"
        },
        "id": "L9cp2XPLm5-E",
        "outputId": "b744dc08-c2c4-4939-ad76-ecb623431082"
      },
      "execution_count": 155,
      "outputs": [
        {
          "output_type": "execute_result",
          "data": {
            "text/plain": [
              "dict_keys(['loss', 'accuracy', 'val_loss', 'val_accuracy'])"
            ]
          },
          "metadata": {},
          "execution_count": 155
        }
      ]
    },
    {
      "cell_type": "code",
      "source": [
        "acc = history_dict['accuracy']\n",
        "val_acc = history_dict['val_accuracy']\n",
        "loss = history_dict['loss']\n",
        "val_loss = history_dict['val_loss']\n",
        "\n",
        "epochs = range(1, len(acc) + 1)\n",
        "\n",
        "# \"bo\" is for \"blue dot\"\n",
        "plt.plot(epochs, loss, 'bo', label='Training loss')\n",
        "# b is for \"solid blue line\"\n",
        "plt.plot(epochs, val_loss, 'b', label='Validation loss')\n",
        "plt.title('Training and validation loss')\n",
        "plt.xlabel('Epochs')\n",
        "plt.ylabel('Loss')\n",
        "plt.legend()\n",
        "\n",
        "plt.show()\n"
      ],
      "metadata": {
        "colab": {
          "base_uri": "https://localhost:8080/",
          "height": 472
        },
        "id": "CvDeas0tnJf3",
        "outputId": "b8d20b67-96f1-4961-c00d-5ab230de7154"
      },
      "execution_count": 156,
      "outputs": [
        {
          "output_type": "display_data",
          "data": {
            "text/plain": [
              "<Figure size 640x480 with 1 Axes>"
            ],
            "image/png": "[encoded data removed]"
          },
          "metadata": {}
        }
      ]
    },
    {
      "cell_type": "code",
      "source": [
        "plt.plot(epochs, acc, 'bo', label='Training acc')\n",
        "plt.plot(epochs, val_acc, 'b', label='Validation acc')\n",
        "plt.title('Training and validation accuracy')\n",
        "plt.xlabel('Epochs')\n",
        "plt.ylabel('Accuracy')\n",
        "plt.legend(loc='lower right')\n",
        "\n",
        "plt.show()"
      ],
      "metadata": {
        "colab": {
          "base_uri": "https://localhost:8080/",
          "height": 472
        },
        "id": "uaGyTLGDnLQ7",
        "outputId": "387edf80-4a18-45c1-c29b-903c2ced5e93"
      },
      "execution_count": 157,
      "outputs": [
        {
          "output_type": "display_data",
          "data": {
            "text/plain": [
              "<Figure size 640x480 with 1 Axes>"
            ],
            "image/png": "[encoded data removed]"
          },
          "metadata": {}
        }
      ]
    },
    {
      "cell_type": "markdown",
      "source": [
        "#Exporting the model"
      ],
      "metadata": {
        "id": "Nm-Iw60Bnkkl"
      }
    },
    {
      "cell_type": "code",
      "source": [
        "export_model = tf.keras.Sequential([ vectorize_layer ,\n",
        "                                    model,\n",
        "                                     layers.Activation('sigmoid')])\n",
        "\n",
        "export_model.compile(loss=tf.keras.losses.SparseCategoricalCrossentropy(from_logits=True), optimizer=\"adam\", metrics=['accuracy'])\n",
        "\n",
        "loss, accuracy = export_model.evaluate(raw_test_ds)\n",
        "print(f\"loss : {loss}\")\n",
        "print(f\"accuracy : {accuracy}\")"
      ],
      "metadata": {
        "colab": {
          "base_uri": "https://localhost:8080/"
        },
        "id": "DOx3zWb2nmzN",
        "outputId": "f9e08058-c802-4345-8f27-c3d7ad725286"
      },
      "execution_count": 167,
      "outputs": [
        {
          "output_type": "stream",
          "name": "stderr",
          "text": [
            "/usr/local/lib/python3.10/dist-packages/keras/src/backend.py:5714: UserWarning: \"`sparse_categorical_crossentropy` received `from_logits=True`, but the `output` argument was produced by a Softmax activation and thus does not represent logits. Was this intended?\n",
            "  output, from_logits = _get_logits(\n"
          ]
        },
        {
          "output_type": "stream",
          "name": "stdout",
          "text": [
            "782/782 [==============================] - 6s 7ms/step - loss: 0.2771 - accuracy: 0.8944\n",
            "loss : 0.27707639336586\n",
            "accuracy : 0.8944000005722046\n"
          ]
        }
      ]
    },
    {
      "cell_type": "markdown",
      "source": [
        "#Inference on new data"
      ],
      "metadata": {
        "id": "sJABh3RpptNg"
      }
    },
    {
      "cell_type": "code",
      "source": [
        "examples = [\n",
        "  \"The movie was great!\",\n",
        "  \"The movie was okay.\",\n",
        "  \"The movie was terrible...\" ,\n",
        "  \"I am not really that sure about this movies but i think it was fucking amazing and terrible\"\n",
        "]\n",
        "export_model.predict(examples)\n",
        "predict_results = export_model.predict(examples)\n",
        "\n",
        "for result in predict_results:\n",
        "  for value in result:\n",
        "    if value <= 0.3 :\n",
        "      print(f\" values -> {value} -> Negative\")\n",
        "    elif value >= 0.6:\n",
        "      print(f\" values -> {value} -> Possible\")\n",
        "    elif value > 0.3 and value < 0.6:\n",
        "      print(f\" values -> {value} -> Neutral\")"
      ],
      "metadata": {
        "colab": {
          "base_uri": "https://localhost:8080/"
        },
        "id": "zgpXgSFnp3fy",
        "outputId": "0da372cf-7925-4ca9-e4ea-35812de03726"
      },
      "execution_count": 176,
      "outputs": [
        {
          "output_type": "stream",
          "name": "stdout",
          "text": [
            "1/1 [==============================] - 0s 41ms/step\n",
            "1/1 [==============================] - 0s 40ms/step\n",
            " values -> 0.8572251796722412 -> Possible\n",
            " values -> 0.911674976348877 -> Possible\n",
            " values -> 0.004193843808025122 -> Negative\n",
            " values -> 0.006539097987115383 -> Negative\n",
            " values -> 0.8899008631706238 -> Possible\n",
            " values -> 0.8861734867095947 -> Possible\n",
            " values -> 0.004224811214953661 -> Negative\n",
            " values -> 0.006515164393931627 -> Negative\n",
            " values -> 0.9034777283668518 -> Possible\n",
            " values -> 0.8704286217689514 -> Possible\n",
            " values -> 0.004280744586139917 -> Negative\n",
            " values -> 0.006569770630449057 -> Negative\n",
            " values -> 0.8767332434654236 -> Possible\n",
            " values -> 0.9010128974914551 -> Possible\n",
            " values -> 0.004026421345770359 -> Negative\n",
            " values -> 0.00624753488227725 -> Negative\n"
          ]
        }
      ]
    }
  ]
}